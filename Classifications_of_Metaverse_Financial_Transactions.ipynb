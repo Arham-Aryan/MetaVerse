{
  "nbformat": 4,
  "nbformat_minor": 0,
  "metadata": {
    "colab": {
      "provenance": [],
      "authorship_tag": "ABX9TyMTyfzTHARdhupYSak1WX9U",
      "include_colab_link": true
    },
    "kernelspec": {
      "name": "python3",
      "display_name": "Python 3"
    },
    "language_info": {
      "name": "python"
    }
  },
  "cells": [
    {
      "cell_type": "markdown",
      "metadata": {
        "id": "view-in-github",
        "colab_type": "text"
      },
      "source": [
        "<a href=\"https://colab.research.google.com/github/Arham-Aryan/MetaVerse/blob/main/Classifications_of_Metaverse_Financial_Transactions.ipynb\" target=\"_parent\"><img src=\"https://colab.research.google.com/assets/colab-badge.svg\" alt=\"Open In Colab\"/></a>"
      ]
    },
    {
      "cell_type": "code",
      "execution_count": null,
      "metadata": {
        "id": "vxM3KJfJ0Igy"
      },
      "outputs": [],
      "source": [
        "import pandas as pd\n",
        "import numpy as np\n",
        "import matplotlib.pyplot as plt\n",
        "import seaborn as sns\n",
        "from sklearn.ensemble import IsolationForest\n",
        "from sklearn.preprocessing import OneHotEncoder, LabelEncoder\n",
        "from sklearn.compose import ColumnTransformer\n",
        "from sklearn.pipeline import Pipeline\n",
        "from sklearn.model_selection import train_test_split\n",
        "from sklearn.metrics import accuracy_score, precision_score, recall_score, f1_score, classification_report\n",
        "from tensorflow.keras.models import Sequential\n",
        "from tensorflow.keras.layers import Conv1D, MaxPooling1D, Flatten, Dense, Dropout\n",
        "from tensorflow.keras.utils import to_categorical"
      ]
    },
    {
      "cell_type": "code",
      "source": [
        "# Load the data\n",
        "data = pd.read_csv('metaverse_transactions_dataset.csv')"
      ],
      "metadata": {
        "id": "9J1vpaFQ1-f3"
      },
      "execution_count": null,
      "outputs": []
    },
    {
      "cell_type": "code",
      "source": [
        "data"
      ],
      "metadata": {
        "colab": {
          "base_uri": "https://localhost:8080/",
          "height": 790
        },
        "id": "RcwrWSap3rfA",
        "outputId": "f1c11639-fb3a-448d-8c63-a03b9b247d42"
      },
      "execution_count": null,
      "outputs": [
        {
          "output_type": "execute_result",
          "data": {
            "text/plain": [
              "                 timestamp  hour_of_day  \\\n",
              "0      2022-04-11 12:47:27           12   \n",
              "1      2022-06-14 19:12:46           19   \n",
              "2      2022-01-18 16:26:59           16   \n",
              "3      2022-06-15 09:20:04            9   \n",
              "4      2022-02-18 14:35:30           14   \n",
              "...                    ...          ...   \n",
              "78595  2022-02-13 12:52:27           12   \n",
              "78596  2022-02-16 16:15:29           16   \n",
              "78597  2022-08-04 16:06:42           16   \n",
              "78598  2022-02-26 04:06:08            4   \n",
              "78599  2022-06-25 14:27:37           14   \n",
              "\n",
              "                                  sending_address  \\\n",
              "0      0x9d32d0bf2c00f41ce7ca01b66e174cc4dcb0c1da   \n",
              "1      0xd6e251c23cbf52dbd472f079147873e655d8096f   \n",
              "2      0x2e0925b922fed01f6a85d213ae2718f54b8ca305   \n",
              "3      0x93efefc25fcaf31d7695f28018d7a11ece55457f   \n",
              "4      0xad3b8de45d63f5cce28aef9a82cf30c397c6ceb9   \n",
              "...                                           ...   \n",
              "78595  0xa99b9a7f5c5dd37429771efd3b93c6fbe1ab2936   \n",
              "78596  0xcca095ad2d508c200bda1141f783d77c3e6cbb08   \n",
              "78597  0xe0b340171486b08f0c1f4ac607ed776478cefd2b   \n",
              "78598  0xb0b2f6fc707fbb7f9d27a9f4fe0cb0d6b39a0155   \n",
              "78599  0x6ea0e02fb6ee893dc3b70b98df1a48165d28eb09   \n",
              "\n",
              "                                receiving_address      amount  \\\n",
              "0      0x39f82e1c09bc6d7baccc1e79e5621ff812f50572  796.949206   \n",
              "1      0x51e8fbe24f124e0e30a614e14401b9bbfed5384c    0.010000   \n",
              "2      0x52c7911879f783d590af45bda0c0ef2b8536706f  778.197390   \n",
              "3      0x8ac3b7bd531b3a833032f07d4e47c7af6ea7bace  300.838358   \n",
              "4      0x6fdc047c2391615b3facd79b4588c7e9106e49f2  775.569344   \n",
              "...                                           ...         ...   \n",
              "78595  0x5a78c88c5fc1e9b512f6c64e266b46a9db0a7238  660.280373   \n",
              "78596  0xb71a4df291ea8e9996a74e77ab63f5abcbfe90f5  310.273397   \n",
              "78597  0x577754308538f4be10a41afb4f8900cd24d7098f  624.674332   \n",
              "78598  0xd6ba299fdd52f09f01d9648036ca446498c01ac2  401.391592   \n",
              "78599  0xc28cbdb253f12174f7aa80ff6c6660f2e09397d7  523.947956   \n",
              "\n",
              "      transaction_type location_region  ip_prefix  login_frequency  \\\n",
              "0             transfer          Europe    192.000                3   \n",
              "1             purchase   South America    172.000                5   \n",
              "2             purchase            Asia    192.168                3   \n",
              "3             transfer   South America    172.000                8   \n",
              "4                 sale          Africa    172.160                6   \n",
              "...                ...             ...        ...              ...   \n",
              "78595         transfer          Africa    172.000                1   \n",
              "78596         purchase          Africa    172.000                5   \n",
              "78597         purchase          Africa    192.000                1   \n",
              "78598         purchase            Asia    192.168                4   \n",
              "78599         transfer   North America    172.000                4   \n",
              "\n",
              "       session_duration purchase_pattern    age_group  risk_score  \\\n",
              "0                    48          focused  established     18.7500   \n",
              "1                    61          focused  established     25.0000   \n",
              "2                    74          focused  established     31.2500   \n",
              "3                   111       high_value      veteran     36.7500   \n",
              "4                   100       high_value      veteran     62.5000   \n",
              "...                 ...              ...          ...         ...   \n",
              "78595                27           random          new     26.2500   \n",
              "78596                60          focused  established     26.2500   \n",
              "78597                34           random          new     36.7500   \n",
              "78598                56          focused  established     35.4375   \n",
              "78599                56          focused  established     15.7500   \n",
              "\n",
              "             anomaly  \n",
              "0           low_risk  \n",
              "1           low_risk  \n",
              "2           low_risk  \n",
              "3           low_risk  \n",
              "4      moderate_risk  \n",
              "...              ...  \n",
              "78595       low_risk  \n",
              "78596       low_risk  \n",
              "78597       low_risk  \n",
              "78598       low_risk  \n",
              "78599       low_risk  \n",
              "\n",
              "[78600 rows x 14 columns]"
            ],
            "text/html": [
              "\n",
              "  <div id=\"df-9e0350f6-a4e4-4ebe-b403-493296a70ebf\" class=\"colab-df-container\">\n",
              "    <div>\n",
              "<style scoped>\n",
              "    .dataframe tbody tr th:only-of-type {\n",
              "        vertical-align: middle;\n",
              "    }\n",
              "\n",
              "    .dataframe tbody tr th {\n",
              "        vertical-align: top;\n",
              "    }\n",
              "\n",
              "    .dataframe thead th {\n",
              "        text-align: right;\n",
              "    }\n",
              "</style>\n",
              "<table border=\"1\" class=\"dataframe\">\n",
              "  <thead>\n",
              "    <tr style=\"text-align: right;\">\n",
              "      <th></th>\n",
              "      <th>timestamp</th>\n",
              "      <th>hour_of_day</th>\n",
              "      <th>sending_address</th>\n",
              "      <th>receiving_address</th>\n",
              "      <th>amount</th>\n",
              "      <th>transaction_type</th>\n",
              "      <th>location_region</th>\n",
              "      <th>ip_prefix</th>\n",
              "      <th>login_frequency</th>\n",
              "      <th>session_duration</th>\n",
              "      <th>purchase_pattern</th>\n",
              "      <th>age_group</th>\n",
              "      <th>risk_score</th>\n",
              "      <th>anomaly</th>\n",
              "    </tr>\n",
              "  </thead>\n",
              "  <tbody>\n",
              "    <tr>\n",
              "      <th>0</th>\n",
              "      <td>2022-04-11 12:47:27</td>\n",
              "      <td>12</td>\n",
              "      <td>0x9d32d0bf2c00f41ce7ca01b66e174cc4dcb0c1da</td>\n",
              "      <td>0x39f82e1c09bc6d7baccc1e79e5621ff812f50572</td>\n",
              "      <td>796.949206</td>\n",
              "      <td>transfer</td>\n",
              "      <td>Europe</td>\n",
              "      <td>192.000</td>\n",
              "      <td>3</td>\n",
              "      <td>48</td>\n",
              "      <td>focused</td>\n",
              "      <td>established</td>\n",
              "      <td>18.7500</td>\n",
              "      <td>low_risk</td>\n",
              "    </tr>\n",
              "    <tr>\n",
              "      <th>1</th>\n",
              "      <td>2022-06-14 19:12:46</td>\n",
              "      <td>19</td>\n",
              "      <td>0xd6e251c23cbf52dbd472f079147873e655d8096f</td>\n",
              "      <td>0x51e8fbe24f124e0e30a614e14401b9bbfed5384c</td>\n",
              "      <td>0.010000</td>\n",
              "      <td>purchase</td>\n",
              "      <td>South America</td>\n",
              "      <td>172.000</td>\n",
              "      <td>5</td>\n",
              "      <td>61</td>\n",
              "      <td>focused</td>\n",
              "      <td>established</td>\n",
              "      <td>25.0000</td>\n",
              "      <td>low_risk</td>\n",
              "    </tr>\n",
              "    <tr>\n",
              "      <th>2</th>\n",
              "      <td>2022-01-18 16:26:59</td>\n",
              "      <td>16</td>\n",
              "      <td>0x2e0925b922fed01f6a85d213ae2718f54b8ca305</td>\n",
              "      <td>0x52c7911879f783d590af45bda0c0ef2b8536706f</td>\n",
              "      <td>778.197390</td>\n",
              "      <td>purchase</td>\n",
              "      <td>Asia</td>\n",
              "      <td>192.168</td>\n",
              "      <td>3</td>\n",
              "      <td>74</td>\n",
              "      <td>focused</td>\n",
              "      <td>established</td>\n",
              "      <td>31.2500</td>\n",
              "      <td>low_risk</td>\n",
              "    </tr>\n",
              "    <tr>\n",
              "      <th>3</th>\n",
              "      <td>2022-06-15 09:20:04</td>\n",
              "      <td>9</td>\n",
              "      <td>0x93efefc25fcaf31d7695f28018d7a11ece55457f</td>\n",
              "      <td>0x8ac3b7bd531b3a833032f07d4e47c7af6ea7bace</td>\n",
              "      <td>300.838358</td>\n",
              "      <td>transfer</td>\n",
              "      <td>South America</td>\n",
              "      <td>172.000</td>\n",
              "      <td>8</td>\n",
              "      <td>111</td>\n",
              "      <td>high_value</td>\n",
              "      <td>veteran</td>\n",
              "      <td>36.7500</td>\n",
              "      <td>low_risk</td>\n",
              "    </tr>\n",
              "    <tr>\n",
              "      <th>4</th>\n",
              "      <td>2022-02-18 14:35:30</td>\n",
              "      <td>14</td>\n",
              "      <td>0xad3b8de45d63f5cce28aef9a82cf30c397c6ceb9</td>\n",
              "      <td>0x6fdc047c2391615b3facd79b4588c7e9106e49f2</td>\n",
              "      <td>775.569344</td>\n",
              "      <td>sale</td>\n",
              "      <td>Africa</td>\n",
              "      <td>172.160</td>\n",
              "      <td>6</td>\n",
              "      <td>100</td>\n",
              "      <td>high_value</td>\n",
              "      <td>veteran</td>\n",
              "      <td>62.5000</td>\n",
              "      <td>moderate_risk</td>\n",
              "    </tr>\n",
              "    <tr>\n",
              "      <th>...</th>\n",
              "      <td>...</td>\n",
              "      <td>...</td>\n",
              "      <td>...</td>\n",
              "      <td>...</td>\n",
              "      <td>...</td>\n",
              "      <td>...</td>\n",
              "      <td>...</td>\n",
              "      <td>...</td>\n",
              "      <td>...</td>\n",
              "      <td>...</td>\n",
              "      <td>...</td>\n",
              "      <td>...</td>\n",
              "      <td>...</td>\n",
              "      <td>...</td>\n",
              "    </tr>\n",
              "    <tr>\n",
              "      <th>78595</th>\n",
              "      <td>2022-02-13 12:52:27</td>\n",
              "      <td>12</td>\n",
              "      <td>0xa99b9a7f5c5dd37429771efd3b93c6fbe1ab2936</td>\n",
              "      <td>0x5a78c88c5fc1e9b512f6c64e266b46a9db0a7238</td>\n",
              "      <td>660.280373</td>\n",
              "      <td>transfer</td>\n",
              "      <td>Africa</td>\n",
              "      <td>172.000</td>\n",
              "      <td>1</td>\n",
              "      <td>27</td>\n",
              "      <td>random</td>\n",
              "      <td>new</td>\n",
              "      <td>26.2500</td>\n",
              "      <td>low_risk</td>\n",
              "    </tr>\n",
              "    <tr>\n",
              "      <th>78596</th>\n",
              "      <td>2022-02-16 16:15:29</td>\n",
              "      <td>16</td>\n",
              "      <td>0xcca095ad2d508c200bda1141f783d77c3e6cbb08</td>\n",
              "      <td>0xb71a4df291ea8e9996a74e77ab63f5abcbfe90f5</td>\n",
              "      <td>310.273397</td>\n",
              "      <td>purchase</td>\n",
              "      <td>Africa</td>\n",
              "      <td>172.000</td>\n",
              "      <td>5</td>\n",
              "      <td>60</td>\n",
              "      <td>focused</td>\n",
              "      <td>established</td>\n",
              "      <td>26.2500</td>\n",
              "      <td>low_risk</td>\n",
              "    </tr>\n",
              "    <tr>\n",
              "      <th>78597</th>\n",
              "      <td>2022-08-04 16:06:42</td>\n",
              "      <td>16</td>\n",
              "      <td>0xe0b340171486b08f0c1f4ac607ed776478cefd2b</td>\n",
              "      <td>0x577754308538f4be10a41afb4f8900cd24d7098f</td>\n",
              "      <td>624.674332</td>\n",
              "      <td>purchase</td>\n",
              "      <td>Africa</td>\n",
              "      <td>192.000</td>\n",
              "      <td>1</td>\n",
              "      <td>34</td>\n",
              "      <td>random</td>\n",
              "      <td>new</td>\n",
              "      <td>36.7500</td>\n",
              "      <td>low_risk</td>\n",
              "    </tr>\n",
              "    <tr>\n",
              "      <th>78598</th>\n",
              "      <td>2022-02-26 04:06:08</td>\n",
              "      <td>4</td>\n",
              "      <td>0xb0b2f6fc707fbb7f9d27a9f4fe0cb0d6b39a0155</td>\n",
              "      <td>0xd6ba299fdd52f09f01d9648036ca446498c01ac2</td>\n",
              "      <td>401.391592</td>\n",
              "      <td>purchase</td>\n",
              "      <td>Asia</td>\n",
              "      <td>192.168</td>\n",
              "      <td>4</td>\n",
              "      <td>56</td>\n",
              "      <td>focused</td>\n",
              "      <td>established</td>\n",
              "      <td>35.4375</td>\n",
              "      <td>low_risk</td>\n",
              "    </tr>\n",
              "    <tr>\n",
              "      <th>78599</th>\n",
              "      <td>2022-06-25 14:27:37</td>\n",
              "      <td>14</td>\n",
              "      <td>0x6ea0e02fb6ee893dc3b70b98df1a48165d28eb09</td>\n",
              "      <td>0xc28cbdb253f12174f7aa80ff6c6660f2e09397d7</td>\n",
              "      <td>523.947956</td>\n",
              "      <td>transfer</td>\n",
              "      <td>North America</td>\n",
              "      <td>172.000</td>\n",
              "      <td>4</td>\n",
              "      <td>56</td>\n",
              "      <td>focused</td>\n",
              "      <td>established</td>\n",
              "      <td>15.7500</td>\n",
              "      <td>low_risk</td>\n",
              "    </tr>\n",
              "  </tbody>\n",
              "</table>\n",
              "<p>78600 rows × 14 columns</p>\n",
              "</div>\n",
              "    <div class=\"colab-df-buttons\">\n",
              "\n",
              "  <div class=\"colab-df-container\">\n",
              "    <button class=\"colab-df-convert\" onclick=\"convertToInteractive('df-9e0350f6-a4e4-4ebe-b403-493296a70ebf')\"\n",
              "            title=\"Convert this dataframe to an interactive table.\"\n",
              "            style=\"display:none;\">\n",
              "\n",
              "  <svg xmlns=\"http://www.w3.org/2000/svg\" height=\"24px\" viewBox=\"0 -960 960 960\">\n",
              "    <path d=\"M120-120v-720h720v720H120Zm60-500h600v-160H180v160Zm220 220h160v-160H400v160Zm0 220h160v-160H400v160ZM180-400h160v-160H180v160Zm440 0h160v-160H620v160ZM180-180h160v-160H180v160Zm440 0h160v-160H620v160Z\"/>\n",
              "  </svg>\n",
              "    </button>\n",
              "\n",
              "  <style>\n",
              "    .colab-df-container {\n",
              "      display:flex;\n",
              "      gap: 12px;\n",
              "    }\n",
              "\n",
              "    .colab-df-convert {\n",
              "      background-color: #E8F0FE;\n",
              "      border: none;\n",
              "      border-radius: 50%;\n",
              "      cursor: pointer;\n",
              "      display: none;\n",
              "      fill: #1967D2;\n",
              "      height: 32px;\n",
              "      padding: 0 0 0 0;\n",
              "      width: 32px;\n",
              "    }\n",
              "\n",
              "    .colab-df-convert:hover {\n",
              "      background-color: #E2EBFA;\n",
              "      box-shadow: 0px 1px 2px rgba(60, 64, 67, 0.3), 0px 1px 3px 1px rgba(60, 64, 67, 0.15);\n",
              "      fill: #174EA6;\n",
              "    }\n",
              "\n",
              "    .colab-df-buttons div {\n",
              "      margin-bottom: 4px;\n",
              "    }\n",
              "\n",
              "    [theme=dark] .colab-df-convert {\n",
              "      background-color: #3B4455;\n",
              "      fill: #D2E3FC;\n",
              "    }\n",
              "\n",
              "    [theme=dark] .colab-df-convert:hover {\n",
              "      background-color: #434B5C;\n",
              "      box-shadow: 0px 1px 3px 1px rgba(0, 0, 0, 0.15);\n",
              "      filter: drop-shadow(0px 1px 2px rgba(0, 0, 0, 0.3));\n",
              "      fill: #FFFFFF;\n",
              "    }\n",
              "  </style>\n",
              "\n",
              "    <script>\n",
              "      const buttonEl =\n",
              "        document.querySelector('#df-9e0350f6-a4e4-4ebe-b403-493296a70ebf button.colab-df-convert');\n",
              "      buttonEl.style.display =\n",
              "        google.colab.kernel.accessAllowed ? 'block' : 'none';\n",
              "\n",
              "      async function convertToInteractive(key) {\n",
              "        const element = document.querySelector('#df-9e0350f6-a4e4-4ebe-b403-493296a70ebf');\n",
              "        const dataTable =\n",
              "          await google.colab.kernel.invokeFunction('convertToInteractive',\n",
              "                                                    [key], {});\n",
              "        if (!dataTable) return;\n",
              "\n",
              "        const docLinkHtml = 'Like what you see? Visit the ' +\n",
              "          '<a target=\"_blank\" href=https://colab.research.google.com/notebooks/data_table.ipynb>data table notebook</a>'\n",
              "          + ' to learn more about interactive tables.';\n",
              "        element.innerHTML = '';\n",
              "        dataTable['output_type'] = 'display_data';\n",
              "        await google.colab.output.renderOutput(dataTable, element);\n",
              "        const docLink = document.createElement('div');\n",
              "        docLink.innerHTML = docLinkHtml;\n",
              "        element.appendChild(docLink);\n",
              "      }\n",
              "    </script>\n",
              "  </div>\n",
              "\n",
              "\n",
              "<div id=\"df-9e78aee6-0080-4b71-afab-ad597858f3b6\">\n",
              "  <button class=\"colab-df-quickchart\" onclick=\"quickchart('df-9e78aee6-0080-4b71-afab-ad597858f3b6')\"\n",
              "            title=\"Suggest charts\"\n",
              "            style=\"display:none;\">\n",
              "\n",
              "<svg xmlns=\"http://www.w3.org/2000/svg\" height=\"24px\"viewBox=\"0 0 24 24\"\n",
              "     width=\"24px\">\n",
              "    <g>\n",
              "        <path d=\"M19 3H5c-1.1 0-2 .9-2 2v14c0 1.1.9 2 2 2h14c1.1 0 2-.9 2-2V5c0-1.1-.9-2-2-2zM9 17H7v-7h2v7zm4 0h-2V7h2v10zm4 0h-2v-4h2v4z\"/>\n",
              "    </g>\n",
              "</svg>\n",
              "  </button>\n",
              "\n",
              "<style>\n",
              "  .colab-df-quickchart {\n",
              "      --bg-color: #E8F0FE;\n",
              "      --fill-color: #1967D2;\n",
              "      --hover-bg-color: #E2EBFA;\n",
              "      --hover-fill-color: #174EA6;\n",
              "      --disabled-fill-color: #AAA;\n",
              "      --disabled-bg-color: #DDD;\n",
              "  }\n",
              "\n",
              "  [theme=dark] .colab-df-quickchart {\n",
              "      --bg-color: #3B4455;\n",
              "      --fill-color: #D2E3FC;\n",
              "      --hover-bg-color: #434B5C;\n",
              "      --hover-fill-color: #FFFFFF;\n",
              "      --disabled-bg-color: #3B4455;\n",
              "      --disabled-fill-color: #666;\n",
              "  }\n",
              "\n",
              "  .colab-df-quickchart {\n",
              "    background-color: var(--bg-color);\n",
              "    border: none;\n",
              "    border-radius: 50%;\n",
              "    cursor: pointer;\n",
              "    display: none;\n",
              "    fill: var(--fill-color);\n",
              "    height: 32px;\n",
              "    padding: 0;\n",
              "    width: 32px;\n",
              "  }\n",
              "\n",
              "  .colab-df-quickchart:hover {\n",
              "    background-color: var(--hover-bg-color);\n",
              "    box-shadow: 0 1px 2px rgba(60, 64, 67, 0.3), 0 1px 3px 1px rgba(60, 64, 67, 0.15);\n",
              "    fill: var(--button-hover-fill-color);\n",
              "  }\n",
              "\n",
              "  .colab-df-quickchart-complete:disabled,\n",
              "  .colab-df-quickchart-complete:disabled:hover {\n",
              "    background-color: var(--disabled-bg-color);\n",
              "    fill: var(--disabled-fill-color);\n",
              "    box-shadow: none;\n",
              "  }\n",
              "\n",
              "  .colab-df-spinner {\n",
              "    border: 2px solid var(--fill-color);\n",
              "    border-color: transparent;\n",
              "    border-bottom-color: var(--fill-color);\n",
              "    animation:\n",
              "      spin 1s steps(1) infinite;\n",
              "  }\n",
              "\n",
              "  @keyframes spin {\n",
              "    0% {\n",
              "      border-color: transparent;\n",
              "      border-bottom-color: var(--fill-color);\n",
              "      border-left-color: var(--fill-color);\n",
              "    }\n",
              "    20% {\n",
              "      border-color: transparent;\n",
              "      border-left-color: var(--fill-color);\n",
              "      border-top-color: var(--fill-color);\n",
              "    }\n",
              "    30% {\n",
              "      border-color: transparent;\n",
              "      border-left-color: var(--fill-color);\n",
              "      border-top-color: var(--fill-color);\n",
              "      border-right-color: var(--fill-color);\n",
              "    }\n",
              "    40% {\n",
              "      border-color: transparent;\n",
              "      border-right-color: var(--fill-color);\n",
              "      border-top-color: var(--fill-color);\n",
              "    }\n",
              "    60% {\n",
              "      border-color: transparent;\n",
              "      border-right-color: var(--fill-color);\n",
              "    }\n",
              "    80% {\n",
              "      border-color: transparent;\n",
              "      border-right-color: var(--fill-color);\n",
              "      border-bottom-color: var(--fill-color);\n",
              "    }\n",
              "    90% {\n",
              "      border-color: transparent;\n",
              "      border-bottom-color: var(--fill-color);\n",
              "    }\n",
              "  }\n",
              "</style>\n",
              "\n",
              "  <script>\n",
              "    async function quickchart(key) {\n",
              "      const quickchartButtonEl =\n",
              "        document.querySelector('#' + key + ' button');\n",
              "      quickchartButtonEl.disabled = true;  // To prevent multiple clicks.\n",
              "      quickchartButtonEl.classList.add('colab-df-spinner');\n",
              "      try {\n",
              "        const charts = await google.colab.kernel.invokeFunction(\n",
              "            'suggestCharts', [key], {});\n",
              "      } catch (error) {\n",
              "        console.error('Error during call to suggestCharts:', error);\n",
              "      }\n",
              "      quickchartButtonEl.classList.remove('colab-df-spinner');\n",
              "      quickchartButtonEl.classList.add('colab-df-quickchart-complete');\n",
              "    }\n",
              "    (() => {\n",
              "      let quickchartButtonEl =\n",
              "        document.querySelector('#df-9e78aee6-0080-4b71-afab-ad597858f3b6 button');\n",
              "      quickchartButtonEl.style.display =\n",
              "        google.colab.kernel.accessAllowed ? 'block' : 'none';\n",
              "    })();\n",
              "  </script>\n",
              "</div>\n",
              "\n",
              "  <div id=\"id_40eb6555-4b28-43ba-ae3b-542e1c8d9f43\">\n",
              "    <style>\n",
              "      .colab-df-generate {\n",
              "        background-color: #E8F0FE;\n",
              "        border: none;\n",
              "        border-radius: 50%;\n",
              "        cursor: pointer;\n",
              "        display: none;\n",
              "        fill: #1967D2;\n",
              "        height: 32px;\n",
              "        padding: 0 0 0 0;\n",
              "        width: 32px;\n",
              "      }\n",
              "\n",
              "      .colab-df-generate:hover {\n",
              "        background-color: #E2EBFA;\n",
              "        box-shadow: 0px 1px 2px rgba(60, 64, 67, 0.3), 0px 1px 3px 1px rgba(60, 64, 67, 0.15);\n",
              "        fill: #174EA6;\n",
              "      }\n",
              "\n",
              "      [theme=dark] .colab-df-generate {\n",
              "        background-color: #3B4455;\n",
              "        fill: #D2E3FC;\n",
              "      }\n",
              "\n",
              "      [theme=dark] .colab-df-generate:hover {\n",
              "        background-color: #434B5C;\n",
              "        box-shadow: 0px 1px 3px 1px rgba(0, 0, 0, 0.15);\n",
              "        filter: drop-shadow(0px 1px 2px rgba(0, 0, 0, 0.3));\n",
              "        fill: #FFFFFF;\n",
              "      }\n",
              "    </style>\n",
              "    <button class=\"colab-df-generate\" onclick=\"generateWithVariable('data')\"\n",
              "            title=\"Generate code using this dataframe.\"\n",
              "            style=\"display:none;\">\n",
              "\n",
              "  <svg xmlns=\"http://www.w3.org/2000/svg\" height=\"24px\"viewBox=\"0 0 24 24\"\n",
              "       width=\"24px\">\n",
              "    <path d=\"M7,19H8.4L18.45,9,17,7.55,7,17.6ZM5,21V16.75L18.45,3.32a2,2,0,0,1,2.83,0l1.4,1.43a1.91,1.91,0,0,1,.58,1.4,1.91,1.91,0,0,1-.58,1.4L9.25,21ZM18.45,9,17,7.55Zm-12,3A5.31,5.31,0,0,0,4.9,8.1,5.31,5.31,0,0,0,1,6.5,5.31,5.31,0,0,0,4.9,4.9,5.31,5.31,0,0,0,6.5,1,5.31,5.31,0,0,0,8.1,4.9,5.31,5.31,0,0,0,12,6.5,5.46,5.46,0,0,0,6.5,12Z\"/>\n",
              "  </svg>\n",
              "    </button>\n",
              "    <script>\n",
              "      (() => {\n",
              "      const buttonEl =\n",
              "        document.querySelector('#id_40eb6555-4b28-43ba-ae3b-542e1c8d9f43 button.colab-df-generate');\n",
              "      buttonEl.style.display =\n",
              "        google.colab.kernel.accessAllowed ? 'block' : 'none';\n",
              "\n",
              "      buttonEl.onclick = () => {\n",
              "        google.colab.notebook.generateWithVariable('data');\n",
              "      }\n",
              "      })();\n",
              "    </script>\n",
              "  </div>\n",
              "\n",
              "    </div>\n",
              "  </div>\n"
            ],
            "application/vnd.google.colaboratory.intrinsic+json": {
              "type": "dataframe",
              "variable_name": "data",
              "repr_error": "'str' object has no attribute 'empty'"
            }
          },
          "metadata": {},
          "execution_count": 36
        }
      ]
    },
    {
      "cell_type": "code",
      "source": [
        "data.info()"
      ],
      "metadata": {
        "colab": {
          "base_uri": "https://localhost:8080/"
        },
        "id": "CqaVCCp530bx",
        "outputId": "c357470e-d937-46c7-dcfe-7a0db57cade3"
      },
      "execution_count": null,
      "outputs": [
        {
          "output_type": "stream",
          "name": "stdout",
          "text": [
            "<class 'pandas.core.frame.DataFrame'>\n",
            "RangeIndex: 78600 entries, 0 to 78599\n",
            "Data columns (total 14 columns):\n",
            " #   Column             Non-Null Count  Dtype  \n",
            "---  ------             --------------  -----  \n",
            " 0   timestamp          78600 non-null  object \n",
            " 1   hour_of_day        78600 non-null  int64  \n",
            " 2   sending_address    78600 non-null  object \n",
            " 3   receiving_address  78600 non-null  object \n",
            " 4   amount             78600 non-null  float64\n",
            " 5   transaction_type   78600 non-null  object \n",
            " 6   location_region    78600 non-null  object \n",
            " 7   ip_prefix          78600 non-null  float64\n",
            " 8   login_frequency    78600 non-null  int64  \n",
            " 9   session_duration   78600 non-null  int64  \n",
            " 10  purchase_pattern   78600 non-null  object \n",
            " 11  age_group          78600 non-null  object \n",
            " 12  risk_score         78600 non-null  float64\n",
            " 13  anomaly            78600 non-null  object \n",
            "dtypes: float64(3), int64(3), object(8)\n",
            "memory usage: 8.4+ MB\n"
          ]
        }
      ]
    },
    {
      "cell_type": "code",
      "source": [
        "data.describe()"
      ],
      "metadata": {
        "colab": {
          "base_uri": "https://localhost:8080/",
          "height": 300
        },
        "id": "GVVZkNUN34Kx",
        "outputId": "c626ce36-ba19-483d-b4c1-ca7274ea7312"
      },
      "execution_count": null,
      "outputs": [
        {
          "output_type": "execute_result",
          "data": {
            "text/plain": [
              "        hour_of_day        amount     ip_prefix  login_frequency  \\\n",
              "count  78600.000000  78600.000000  78600.000000     78600.000000   \n",
              "mean      11.532634    502.574903    147.644430         4.178702   \n",
              "std        6.935897    245.898146     69.388143         2.366038   \n",
              "min        0.000000      0.010000     10.000000         1.000000   \n",
              "25%        6.000000    331.319966    172.000000         2.000000   \n",
              "50%       12.000000    500.029500    172.160000         4.000000   \n",
              "75%       18.000000    669.528311    192.000000         6.000000   \n",
              "max       23.000000   1557.150905    192.168000         8.000000   \n",
              "\n",
              "       session_duration    risk_score  \n",
              "count      78600.000000  78600.000000  \n",
              "mean          69.684606     44.956722  \n",
              "std           40.524476     21.775365  \n",
              "min           20.000000     15.000000  \n",
              "25%           35.000000     26.250000  \n",
              "50%           60.000000     40.000000  \n",
              "75%          100.000000     52.500000  \n",
              "max          159.000000    100.000000  "
            ],
            "text/html": [
              "\n",
              "  <div id=\"df-2c8ea681-51b0-4b1c-9d0b-49ba461a3ad7\" class=\"colab-df-container\">\n",
              "    <div>\n",
              "<style scoped>\n",
              "    .dataframe tbody tr th:only-of-type {\n",
              "        vertical-align: middle;\n",
              "    }\n",
              "\n",
              "    .dataframe tbody tr th {\n",
              "        vertical-align: top;\n",
              "    }\n",
              "\n",
              "    .dataframe thead th {\n",
              "        text-align: right;\n",
              "    }\n",
              "</style>\n",
              "<table border=\"1\" class=\"dataframe\">\n",
              "  <thead>\n",
              "    <tr style=\"text-align: right;\">\n",
              "      <th></th>\n",
              "      <th>hour_of_day</th>\n",
              "      <th>amount</th>\n",
              "      <th>ip_prefix</th>\n",
              "      <th>login_frequency</th>\n",
              "      <th>session_duration</th>\n",
              "      <th>risk_score</th>\n",
              "    </tr>\n",
              "  </thead>\n",
              "  <tbody>\n",
              "    <tr>\n",
              "      <th>count</th>\n",
              "      <td>78600.000000</td>\n",
              "      <td>78600.000000</td>\n",
              "      <td>78600.000000</td>\n",
              "      <td>78600.000000</td>\n",
              "      <td>78600.000000</td>\n",
              "      <td>78600.000000</td>\n",
              "    </tr>\n",
              "    <tr>\n",
              "      <th>mean</th>\n",
              "      <td>11.532634</td>\n",
              "      <td>502.574903</td>\n",
              "      <td>147.644430</td>\n",
              "      <td>4.178702</td>\n",
              "      <td>69.684606</td>\n",
              "      <td>44.956722</td>\n",
              "    </tr>\n",
              "    <tr>\n",
              "      <th>std</th>\n",
              "      <td>6.935897</td>\n",
              "      <td>245.898146</td>\n",
              "      <td>69.388143</td>\n",
              "      <td>2.366038</td>\n",
              "      <td>40.524476</td>\n",
              "      <td>21.775365</td>\n",
              "    </tr>\n",
              "    <tr>\n",
              "      <th>min</th>\n",
              "      <td>0.000000</td>\n",
              "      <td>0.010000</td>\n",
              "      <td>10.000000</td>\n",
              "      <td>1.000000</td>\n",
              "      <td>20.000000</td>\n",
              "      <td>15.000000</td>\n",
              "    </tr>\n",
              "    <tr>\n",
              "      <th>25%</th>\n",
              "      <td>6.000000</td>\n",
              "      <td>331.319966</td>\n",
              "      <td>172.000000</td>\n",
              "      <td>2.000000</td>\n",
              "      <td>35.000000</td>\n",
              "      <td>26.250000</td>\n",
              "    </tr>\n",
              "    <tr>\n",
              "      <th>50%</th>\n",
              "      <td>12.000000</td>\n",
              "      <td>500.029500</td>\n",
              "      <td>172.160000</td>\n",
              "      <td>4.000000</td>\n",
              "      <td>60.000000</td>\n",
              "      <td>40.000000</td>\n",
              "    </tr>\n",
              "    <tr>\n",
              "      <th>75%</th>\n",
              "      <td>18.000000</td>\n",
              "      <td>669.528311</td>\n",
              "      <td>192.000000</td>\n",
              "      <td>6.000000</td>\n",
              "      <td>100.000000</td>\n",
              "      <td>52.500000</td>\n",
              "    </tr>\n",
              "    <tr>\n",
              "      <th>max</th>\n",
              "      <td>23.000000</td>\n",
              "      <td>1557.150905</td>\n",
              "      <td>192.168000</td>\n",
              "      <td>8.000000</td>\n",
              "      <td>159.000000</td>\n",
              "      <td>100.000000</td>\n",
              "    </tr>\n",
              "  </tbody>\n",
              "</table>\n",
              "</div>\n",
              "    <div class=\"colab-df-buttons\">\n",
              "\n",
              "  <div class=\"colab-df-container\">\n",
              "    <button class=\"colab-df-convert\" onclick=\"convertToInteractive('df-2c8ea681-51b0-4b1c-9d0b-49ba461a3ad7')\"\n",
              "            title=\"Convert this dataframe to an interactive table.\"\n",
              "            style=\"display:none;\">\n",
              "\n",
              "  <svg xmlns=\"http://www.w3.org/2000/svg\" height=\"24px\" viewBox=\"0 -960 960 960\">\n",
              "    <path d=\"M120-120v-720h720v720H120Zm60-500h600v-160H180v160Zm220 220h160v-160H400v160Zm0 220h160v-160H400v160ZM180-400h160v-160H180v160Zm440 0h160v-160H620v160ZM180-180h160v-160H180v160Zm440 0h160v-160H620v160Z\"/>\n",
              "  </svg>\n",
              "    </button>\n",
              "\n",
              "  <style>\n",
              "    .colab-df-container {\n",
              "      display:flex;\n",
              "      gap: 12px;\n",
              "    }\n",
              "\n",
              "    .colab-df-convert {\n",
              "      background-color: #E8F0FE;\n",
              "      border: none;\n",
              "      border-radius: 50%;\n",
              "      cursor: pointer;\n",
              "      display: none;\n",
              "      fill: #1967D2;\n",
              "      height: 32px;\n",
              "      padding: 0 0 0 0;\n",
              "      width: 32px;\n",
              "    }\n",
              "\n",
              "    .colab-df-convert:hover {\n",
              "      background-color: #E2EBFA;\n",
              "      box-shadow: 0px 1px 2px rgba(60, 64, 67, 0.3), 0px 1px 3px 1px rgba(60, 64, 67, 0.15);\n",
              "      fill: #174EA6;\n",
              "    }\n",
              "\n",
              "    .colab-df-buttons div {\n",
              "      margin-bottom: 4px;\n",
              "    }\n",
              "\n",
              "    [theme=dark] .colab-df-convert {\n",
              "      background-color: #3B4455;\n",
              "      fill: #D2E3FC;\n",
              "    }\n",
              "\n",
              "    [theme=dark] .colab-df-convert:hover {\n",
              "      background-color: #434B5C;\n",
              "      box-shadow: 0px 1px 3px 1px rgba(0, 0, 0, 0.15);\n",
              "      filter: drop-shadow(0px 1px 2px rgba(0, 0, 0, 0.3));\n",
              "      fill: #FFFFFF;\n",
              "    }\n",
              "  </style>\n",
              "\n",
              "    <script>\n",
              "      const buttonEl =\n",
              "        document.querySelector('#df-2c8ea681-51b0-4b1c-9d0b-49ba461a3ad7 button.colab-df-convert');\n",
              "      buttonEl.style.display =\n",
              "        google.colab.kernel.accessAllowed ? 'block' : 'none';\n",
              "\n",
              "      async function convertToInteractive(key) {\n",
              "        const element = document.querySelector('#df-2c8ea681-51b0-4b1c-9d0b-49ba461a3ad7');\n",
              "        const dataTable =\n",
              "          await google.colab.kernel.invokeFunction('convertToInteractive',\n",
              "                                                    [key], {});\n",
              "        if (!dataTable) return;\n",
              "\n",
              "        const docLinkHtml = 'Like what you see? Visit the ' +\n",
              "          '<a target=\"_blank\" href=https://colab.research.google.com/notebooks/data_table.ipynb>data table notebook</a>'\n",
              "          + ' to learn more about interactive tables.';\n",
              "        element.innerHTML = '';\n",
              "        dataTable['output_type'] = 'display_data';\n",
              "        await google.colab.output.renderOutput(dataTable, element);\n",
              "        const docLink = document.createElement('div');\n",
              "        docLink.innerHTML = docLinkHtml;\n",
              "        element.appendChild(docLink);\n",
              "      }\n",
              "    </script>\n",
              "  </div>\n",
              "\n",
              "\n",
              "<div id=\"df-19aebfa1-9e18-4ce3-be88-fa0e9cfea9a3\">\n",
              "  <button class=\"colab-df-quickchart\" onclick=\"quickchart('df-19aebfa1-9e18-4ce3-be88-fa0e9cfea9a3')\"\n",
              "            title=\"Suggest charts\"\n",
              "            style=\"display:none;\">\n",
              "\n",
              "<svg xmlns=\"http://www.w3.org/2000/svg\" height=\"24px\"viewBox=\"0 0 24 24\"\n",
              "     width=\"24px\">\n",
              "    <g>\n",
              "        <path d=\"M19 3H5c-1.1 0-2 .9-2 2v14c0 1.1.9 2 2 2h14c1.1 0 2-.9 2-2V5c0-1.1-.9-2-2-2zM9 17H7v-7h2v7zm4 0h-2V7h2v10zm4 0h-2v-4h2v4z\"/>\n",
              "    </g>\n",
              "</svg>\n",
              "  </button>\n",
              "\n",
              "<style>\n",
              "  .colab-df-quickchart {\n",
              "      --bg-color: #E8F0FE;\n",
              "      --fill-color: #1967D2;\n",
              "      --hover-bg-color: #E2EBFA;\n",
              "      --hover-fill-color: #174EA6;\n",
              "      --disabled-fill-color: #AAA;\n",
              "      --disabled-bg-color: #DDD;\n",
              "  }\n",
              "\n",
              "  [theme=dark] .colab-df-quickchart {\n",
              "      --bg-color: #3B4455;\n",
              "      --fill-color: #D2E3FC;\n",
              "      --hover-bg-color: #434B5C;\n",
              "      --hover-fill-color: #FFFFFF;\n",
              "      --disabled-bg-color: #3B4455;\n",
              "      --disabled-fill-color: #666;\n",
              "  }\n",
              "\n",
              "  .colab-df-quickchart {\n",
              "    background-color: var(--bg-color);\n",
              "    border: none;\n",
              "    border-radius: 50%;\n",
              "    cursor: pointer;\n",
              "    display: none;\n",
              "    fill: var(--fill-color);\n",
              "    height: 32px;\n",
              "    padding: 0;\n",
              "    width: 32px;\n",
              "  }\n",
              "\n",
              "  .colab-df-quickchart:hover {\n",
              "    background-color: var(--hover-bg-color);\n",
              "    box-shadow: 0 1px 2px rgba(60, 64, 67, 0.3), 0 1px 3px 1px rgba(60, 64, 67, 0.15);\n",
              "    fill: var(--button-hover-fill-color);\n",
              "  }\n",
              "\n",
              "  .colab-df-quickchart-complete:disabled,\n",
              "  .colab-df-quickchart-complete:disabled:hover {\n",
              "    background-color: var(--disabled-bg-color);\n",
              "    fill: var(--disabled-fill-color);\n",
              "    box-shadow: none;\n",
              "  }\n",
              "\n",
              "  .colab-df-spinner {\n",
              "    border: 2px solid var(--fill-color);\n",
              "    border-color: transparent;\n",
              "    border-bottom-color: var(--fill-color);\n",
              "    animation:\n",
              "      spin 1s steps(1) infinite;\n",
              "  }\n",
              "\n",
              "  @keyframes spin {\n",
              "    0% {\n",
              "      border-color: transparent;\n",
              "      border-bottom-color: var(--fill-color);\n",
              "      border-left-color: var(--fill-color);\n",
              "    }\n",
              "    20% {\n",
              "      border-color: transparent;\n",
              "      border-left-color: var(--fill-color);\n",
              "      border-top-color: var(--fill-color);\n",
              "    }\n",
              "    30% {\n",
              "      border-color: transparent;\n",
              "      border-left-color: var(--fill-color);\n",
              "      border-top-color: var(--fill-color);\n",
              "      border-right-color: var(--fill-color);\n",
              "    }\n",
              "    40% {\n",
              "      border-color: transparent;\n",
              "      border-right-color: var(--fill-color);\n",
              "      border-top-color: var(--fill-color);\n",
              "    }\n",
              "    60% {\n",
              "      border-color: transparent;\n",
              "      border-right-color: var(--fill-color);\n",
              "    }\n",
              "    80% {\n",
              "      border-color: transparent;\n",
              "      border-right-color: var(--fill-color);\n",
              "      border-bottom-color: var(--fill-color);\n",
              "    }\n",
              "    90% {\n",
              "      border-color: transparent;\n",
              "      border-bottom-color: var(--fill-color);\n",
              "    }\n",
              "  }\n",
              "</style>\n",
              "\n",
              "  <script>\n",
              "    async function quickchart(key) {\n",
              "      const quickchartButtonEl =\n",
              "        document.querySelector('#' + key + ' button');\n",
              "      quickchartButtonEl.disabled = true;  // To prevent multiple clicks.\n",
              "      quickchartButtonEl.classList.add('colab-df-spinner');\n",
              "      try {\n",
              "        const charts = await google.colab.kernel.invokeFunction(\n",
              "            'suggestCharts', [key], {});\n",
              "      } catch (error) {\n",
              "        console.error('Error during call to suggestCharts:', error);\n",
              "      }\n",
              "      quickchartButtonEl.classList.remove('colab-df-spinner');\n",
              "      quickchartButtonEl.classList.add('colab-df-quickchart-complete');\n",
              "    }\n",
              "    (() => {\n",
              "      let quickchartButtonEl =\n",
              "        document.querySelector('#df-19aebfa1-9e18-4ce3-be88-fa0e9cfea9a3 button');\n",
              "      quickchartButtonEl.style.display =\n",
              "        google.colab.kernel.accessAllowed ? 'block' : 'none';\n",
              "    })();\n",
              "  </script>\n",
              "</div>\n",
              "\n",
              "    </div>\n",
              "  </div>\n"
            ],
            "application/vnd.google.colaboratory.intrinsic+json": {
              "type": "dataframe",
              "summary": "{\n  \"name\": \"data\",\n  \"rows\": 8,\n  \"fields\": [\n    {\n      \"column\": \"hour_of_day\",\n      \"properties\": {\n        \"dtype\": \"number\",\n        \"std\": 27785.384666105387,\n        \"min\": 0.0,\n        \"max\": 78600.0,\n        \"num_unique_values\": 8,\n        \"samples\": [\n          11.53263358778626,\n          12.0,\n          78600.0\n        ],\n        \"semantic_type\": \"\",\n        \"description\": \"\"\n      }\n    },\n    {\n      \"column\": \"amount\",\n      \"properties\": {\n        \"dtype\": \"number\",\n        \"std\": 27600.858397578915,\n        \"min\": 0.01,\n        \"max\": 78600.0,\n        \"num_unique_values\": 8,\n        \"samples\": [\n          502.5749027097869,\n          500.0295002762907,\n          78600.0\n        ],\n        \"semantic_type\": \"\",\n        \"description\": \"\"\n      }\n    },\n    {\n      \"column\": \"ip_prefix\",\n      \"properties\": {\n        \"dtype\": \"number\",\n        \"std\": 27741.119054359086,\n        \"min\": 10.0,\n        \"max\": 78600.0,\n        \"num_unique_values\": 8,\n        \"samples\": [\n          147.64442982188297,\n          172.16,\n          78600.0\n        ],\n        \"semantic_type\": \"\",\n        \"description\": \"\"\n      }\n    },\n    {\n      \"column\": \"login_frequency\",\n      \"properties\": {\n        \"dtype\": \"number\",\n        \"std\": 27787.905372842062,\n        \"min\": 1.0,\n        \"max\": 78600.0,\n        \"num_unique_values\": 8,\n        \"samples\": [\n          4.178702290076336,\n          4.0,\n          78600.0\n        ],\n        \"semantic_type\": \"\",\n        \"description\": \"\"\n      }\n    },\n    {\n      \"column\": \"session_duration\",\n      \"properties\": {\n        \"dtype\": \"number\",\n        \"std\": 27764.87500531932,\n        \"min\": 20.0,\n        \"max\": 78600.0,\n        \"num_unique_values\": 8,\n        \"samples\": [\n          69.68460559796438,\n          60.0,\n          78600.0\n        ],\n        \"semantic_type\": \"\",\n        \"description\": \"\"\n      }\n    },\n    {\n      \"column\": \"risk_score\",\n      \"properties\": {\n        \"dtype\": \"number\",\n        \"std\": 27774.132380370997,\n        \"min\": 15.0,\n        \"max\": 78600.0,\n        \"num_unique_values\": 8,\n        \"samples\": [\n          44.956722487277354,\n          40.0,\n          78600.0\n        ],\n        \"semantic_type\": \"\",\n        \"description\": \"\"\n      }\n    }\n  ]\n}"
            }
          },
          "metadata": {},
          "execution_count": 38
        }
      ]
    },
    {
      "cell_type": "code",
      "source": [
        "data.isna().sum()"
      ],
      "metadata": {
        "colab": {
          "base_uri": "https://localhost:8080/"
        },
        "id": "ivEA_ZMb4ALq",
        "outputId": "b2b9727c-96ab-4ce0-8d9b-545108fa7d10"
      },
      "execution_count": null,
      "outputs": [
        {
          "output_type": "execute_result",
          "data": {
            "text/plain": [
              "timestamp            0\n",
              "hour_of_day          0\n",
              "sending_address      0\n",
              "receiving_address    0\n",
              "amount               0\n",
              "transaction_type     0\n",
              "location_region      0\n",
              "ip_prefix            0\n",
              "login_frequency      0\n",
              "session_duration     0\n",
              "purchase_pattern     0\n",
              "age_group            0\n",
              "risk_score           0\n",
              "anomaly              0\n",
              "dtype: int64"
            ]
          },
          "metadata": {},
          "execution_count": 39
        }
      ]
    },
    {
      "cell_type": "code",
      "source": [
        "data.duplicated().sum()"
      ],
      "metadata": {
        "colab": {
          "base_uri": "https://localhost:8080/"
        },
        "id": "tnbB8uGL4Dc9",
        "outputId": "5319ce01-5087-4d26-bd7f-1be3601638eb"
      },
      "execution_count": null,
      "outputs": [
        {
          "output_type": "execute_result",
          "data": {
            "text/plain": [
              "0"
            ]
          },
          "metadata": {},
          "execution_count": 40
        }
      ]
    },
    {
      "cell_type": "code",
      "source": [
        "num_cols = data.select_dtypes(include='number').columns\n",
        "cat_cols = data.select_dtypes(include='object').columns"
      ],
      "metadata": {
        "id": "9fqi2nOe4QNs"
      },
      "execution_count": null,
      "outputs": []
    },
    {
      "cell_type": "code",
      "source": [
        "corr = data[num_cols].corr()\n",
        "plt.figure(figsize=(12, 8))\n",
        "sns.heatmap(corr, cmap='coolwarm', annot=True)"
      ],
      "metadata": {
        "colab": {
          "base_uri": "https://localhost:8080/",
          "height": 604
        },
        "id": "VCvR_Ccw4TO8",
        "outputId": "22e51420-416c-4918-a6e4-220ae51baafd"
      },
      "execution_count": null,
      "outputs": [
        {
          "output_type": "execute_result",
          "data": {
            "text/plain": [
              "<Axes: >"
            ]
          },
          "metadata": {},
          "execution_count": 42
        },
        {
          "output_type": "display_data",
          "data": {
            "text/plain": [
              "<Figure size 1200x800 with 2 Axes>"
            ],
            "image/png": "[encoded data removed]"
          },
          "metadata": {}
        }
      ]
    },
    {
      "cell_type": "code",
      "source": [
        "data.hist(figsize=(10, 10))\n",
        "plt.show()"
      ],
      "metadata": {
        "colab": {
          "base_uri": "https://localhost:8080/",
          "height": 853
        },
        "id": "-G4YQi5_4b5h",
        "outputId": "7fefd325-e286-418f-cd99-7352fe9de0dc"
      },
      "execution_count": null,
      "outputs": [
        {
          "output_type": "display_data",
          "data": {
            "text/plain": [
              "<Figure size 1000x1000 with 6 Axes>"
            ],
            "image/png": "[encoded data removed]"
          },
          "metadata": {}
        }
      ]
    },
    {
      "cell_type": "code",
      "source": [
        "# Box plot of amount by transaction type\n",
        "sns.boxplot(x='transaction_type', y='amount', data=data)\n",
        "plt.title('Amount Distribution by Transaction Type')\n",
        "plt.show()"
      ],
      "metadata": {
        "colab": {
          "base_uri": "https://localhost:8080/",
          "height": 472
        },
        "id": "ceik-OGv4irT",
        "outputId": "9ad6eb0f-1157-40ea-e608-b5560ff566a8"
      },
      "execution_count": null,
      "outputs": [
        {
          "output_type": "display_data",
          "data": {
            "text/plain": [
              "<Figure size 640x480 with 1 Axes>"
            ],
            "image/png": "[encoded data removed]"
          },
          "metadata": {}
        }
      ]
    },
    {
      "cell_type": "code",
      "source": [
        "# Scatter plot of amount vs hour_of_day\n",
        "plt.scatter(data['hour_of_day'], data['amount'], alpha=0.5)\n",
        "plt.xlabel('Hour of Day')\n",
        "plt.ylabel('Amount')\n",
        "plt.title('Amount vs Hour of Day')\n",
        "plt.show()"
      ],
      "metadata": {
        "colab": {
          "base_uri": "https://localhost:8080/",
          "height": 472
        },
        "id": "ZtIa1g2T4qgC",
        "outputId": "2e9b113e-2c29-4273-bd0b-448c1ad880c6"
      },
      "execution_count": null,
      "outputs": [
        {
          "output_type": "display_data",
          "data": {
            "text/plain": [
              "<Figure size 640x480 with 1 Axes>"
            ],
            "image/png": "[encoded data removed]"
          },
          "metadata": {}
        }
      ]
    },
    {
      "cell_type": "code",
      "source": [
        "# Risk Assessment\n",
        "# Define risk levels based on transaction features\n",
        "def assess_risk(transaction):\n",
        "    if transaction['transaction_type'] == 'transfer':\n",
        "        if transaction['amount'] > 500:  # High amount transfers\n",
        "            return 'high_risk'\n",
        "        else:\n",
        "            return 'medium_risk'\n",
        "    elif transaction['transaction_type'] == 'purchase':\n",
        "        if transaction['amount'] > 100:  # High amount purchases\n",
        "            return 'high_risk'\n",
        "        else:\n",
        "            return 'low_risk'\n",
        "    elif transaction['transaction_type'] == 'sale':\n",
        "        if transaction['amount'] > 1000:  # High amount sales\n",
        "            return 'high_risk'\n",
        "        else:\n",
        "            return 'medium_risk'\n",
        "    else:\n",
        "        return 'unknown'\n",
        "\n",
        "# Apply risk assessment function to each transaction\n",
        "data['risk_level'] = data.apply(assess_risk, axis=1)"
      ],
      "metadata": {
        "id": "zqNfaJC84vmP"
      },
      "execution_count": null,
      "outputs": []
    },
    {
      "cell_type": "code",
      "source": [
        "# Display results\n",
        "print(\"Risk Assessment Results:\")\n",
        "print(data['risk_level'].value_counts())"
      ],
      "metadata": {
        "colab": {
          "base_uri": "https://localhost:8080/"
        },
        "id": "5pWEjc4u5EWU",
        "outputId": "eb9e4125-f02d-4188-9d45-331c3640a88b"
      },
      "execution_count": null,
      "outputs": [
        {
          "output_type": "stream",
          "name": "stdout",
          "text": [
            "Risk Assessment Results:\n",
            "medium_risk    35599\n",
            "high_risk      35133\n",
            "unknown         6495\n",
            "low_risk        1373\n",
            "Name: risk_level, dtype: int64\n"
          ]
        }
      ]
    },
    {
      "cell_type": "code",
      "source": [
        "# Drop non-numeric columns if necessary or handle them separately\n",
        "X = data.drop(['sending_address', 'receiving_address', 'transaction_type', 'location_region', 'anomaly'], axis=1)\n",
        "y = data['anomaly']  # Assuming 'anomaly' is the target variable"
      ],
      "metadata": {
        "id": "YXMtV6PH2IM2"
      },
      "execution_count": null,
      "outputs": []
    },
    {
      "cell_type": "code",
      "source": [
        "# Split the data into train and test sets\n",
        "X_train, X_test, y_train, y_test = train_test_split(X, y, test_size=0.2, random_state=42)"
      ],
      "metadata": {
        "id": "iu__ZeSU2Nis"
      },
      "execution_count": null,
      "outputs": []
    },
    {
      "cell_type": "code",
      "source": [
        "# Define categorical columns\n",
        "categorical_cols = ['purchase_pattern', 'age_group', 'risk_score']"
      ],
      "metadata": {
        "id": "afkjGEGM2Zbz"
      },
      "execution_count": null,
      "outputs": []
    },
    {
      "cell_type": "code",
      "source": [
        "# Define preprocessing pipeline\n",
        "preprocessor = ColumnTransformer(\n",
        "    transformers=[\n",
        "        ('cat', OneHotEncoder(), categorical_cols)\n",
        "    ])"
      ],
      "metadata": {
        "id": "6aeM3KoS2j9s"
      },
      "execution_count": null,
      "outputs": []
    },
    {
      "cell_type": "code",
      "source": [
        "# Encode target variable\n",
        "label_encoder = LabelEncoder()\n",
        "y_train_encoded = label_encoder.fit_transform(y_train)\n",
        "y_test_encoded = label_encoder.transform(y_test)"
      ],
      "metadata": {
        "id": "pIQabtr_2paO"
      },
      "execution_count": null,
      "outputs": []
    },
    {
      "cell_type": "code",
      "source": [
        "# Append the model to the preprocessing pipeline\n",
        "pipeline = Pipeline(steps=[('preprocessor', preprocessor),\n",
        "                           ('model', IsolationForest(contamination=0.05))])"
      ],
      "metadata": {
        "id": "7kGlHZq32qNV"
      },
      "execution_count": null,
      "outputs": []
    },
    {
      "cell_type": "code",
      "source": [
        "# Train the model\n",
        "pipeline.fit(X_train)"
      ],
      "metadata": {
        "colab": {
          "base_uri": "https://localhost:8080/",
          "height": 189
        },
        "id": "nLTZcC6g2x9M",
        "outputId": "7389bbfb-4cfe-4dd0-e232-658f2ec43726"
      },
      "execution_count": null,
      "outputs": [
        {
          "output_type": "execute_result",
          "data": {
            "text/plain": [
              "Pipeline(steps=[('preprocessor',\n",
              "                 ColumnTransformer(transformers=[('cat', OneHotEncoder(),\n",
              "                                                  ['purchase_pattern',\n",
              "                                                   'age_group',\n",
              "                                                   'risk_score'])])),\n",
              "                ('model', IsolationForest(contamination=0.05))])"
            ],
            "text/html": [
              "<style>#sk-container-id-2 {color: black;background-color: white;}#sk-container-id-2 pre{padding: 0;}#sk-container-id-2 div.sk-toggleable {background-color: white;}#sk-container-id-2 label.sk-toggleable__label {cursor: pointer;display: block;width: 100%;margin-bottom: 0;padding: 0.3em;box-sizing: border-box;text-align: center;}#sk-container-id-2 label.sk-toggleable__label-arrow:before {content: \"▸\";float: left;margin-right: 0.25em;color: #696969;}#sk-container-id-2 label.sk-toggleable__label-arrow:hover:before {color: black;}#sk-container-id-2 div.sk-estimator:hover label.sk-toggleable__label-arrow:before {color: black;}#sk-container-id-2 div.sk-toggleable__content {max-height: 0;max-width: 0;overflow: hidden;text-align: left;background-color: #f0f8ff;}#sk-container-id-2 div.sk-toggleable__content pre {margin: 0.2em;color: black;border-radius: 0.25em;background-color: #f0f8ff;}#sk-container-id-2 input.sk-toggleable__control:checked~div.sk-toggleable__content {max-height: 200px;max-width: 100%;overflow: auto;}#sk-container-id-2 input.sk-toggleable__control:checked~label.sk-toggleable__label-arrow:before {content: \"▾\";}#sk-container-id-2 div.sk-estimator input.sk-toggleable__control:checked~label.sk-toggleable__label {background-color: #d4ebff;}#sk-container-id-2 div.sk-label input.sk-toggleable__control:checked~label.sk-toggleable__label {background-color: #d4ebff;}#sk-container-id-2 input.sk-hidden--visually {border: 0;clip: rect(1px 1px 1px 1px);clip: rect(1px, 1px, 1px, 1px);height: 1px;margin: -1px;overflow: hidden;padding: 0;position: absolute;width: 1px;}#sk-container-id-2 div.sk-estimator {font-family: monospace;background-color: #f0f8ff;border: 1px dotted black;border-radius: 0.25em;box-sizing: border-box;margin-bottom: 0.5em;}#sk-container-id-2 div.sk-estimator:hover {background-color: #d4ebff;}#sk-container-id-2 div.sk-parallel-item::after {content: \"\";width: 100%;border-bottom: 1px solid gray;flex-grow: 1;}#sk-container-id-2 div.sk-label:hover label.sk-toggleable__label {background-color: #d4ebff;}#sk-container-id-2 div.sk-serial::before {content: \"\";position: absolute;border-left: 1px solid gray;box-sizing: border-box;top: 0;bottom: 0;left: 50%;z-index: 0;}#sk-container-id-2 div.sk-serial {display: flex;flex-direction: column;align-items: center;background-color: white;padding-right: 0.2em;padding-left: 0.2em;position: relative;}#sk-container-id-2 div.sk-item {position: relative;z-index: 1;}#sk-container-id-2 div.sk-parallel {display: flex;align-items: stretch;justify-content: center;background-color: white;position: relative;}#sk-container-id-2 div.sk-item::before, #sk-container-id-2 div.sk-parallel-item::before {content: \"\";position: absolute;border-left: 1px solid gray;box-sizing: border-box;top: 0;bottom: 0;left: 50%;z-index: -1;}#sk-container-id-2 div.sk-parallel-item {display: flex;flex-direction: column;z-index: 1;position: relative;background-color: white;}#sk-container-id-2 div.sk-parallel-item:first-child::after {align-self: flex-end;width: 50%;}#sk-container-id-2 div.sk-parallel-item:last-child::after {align-self: flex-start;width: 50%;}#sk-container-id-2 div.sk-parallel-item:only-child::after {width: 0;}#sk-container-id-2 div.sk-dashed-wrapped {border: 1px dashed gray;margin: 0 0.4em 0.5em 0.4em;box-sizing: border-box;padding-bottom: 0.4em;background-color: white;}#sk-container-id-2 div.sk-label label {font-family: monospace;font-weight: bold;display: inline-block;line-height: 1.2em;}#sk-container-id-2 div.sk-label-container {text-align: center;}#sk-container-id-2 div.sk-container {/* jupyter's `normalize.less` sets `[hidden] { display: none; }` but bootstrap.min.css set `[hidden] { display: none !important; }` so we also need the `!important` here to be able to override the default hidden behavior on the sphinx rendered scikit-learn.org. See: https://github.com/scikit-learn/scikit-learn/issues/21755 */display: inline-block !important;position: relative;}#sk-container-id-2 div.sk-text-repr-fallback {display: none;}</style><div id=\"sk-container-id-2\" class=\"sk-top-container\"><div class=\"sk-text-repr-fallback\"><pre>Pipeline(steps=[(&#x27;preprocessor&#x27;,\n",
              "                 ColumnTransformer(transformers=[(&#x27;cat&#x27;, OneHotEncoder(),\n",
              "                                                  [&#x27;purchase_pattern&#x27;,\n",
              "                                                   &#x27;age_group&#x27;,\n",
              "                                                   &#x27;risk_score&#x27;])])),\n",
              "                (&#x27;model&#x27;, IsolationForest(contamination=0.05))])</pre><b>In a Jupyter environment, please rerun this cell to show the HTML representation or trust the notebook. <br />On GitHub, the HTML representation is unable to render, please try loading this page with nbviewer.org.</b></div><div class=\"sk-container\" hidden><div class=\"sk-item sk-dashed-wrapped\"><div class=\"sk-label-container\"><div class=\"sk-label sk-toggleable\"><input class=\"sk-toggleable__control sk-hidden--visually\" id=\"sk-estimator-id-6\" type=\"checkbox\" ><label for=\"sk-estimator-id-6\" class=\"sk-toggleable__label sk-toggleable__label-arrow\">Pipeline</label><div class=\"sk-toggleable__content\"><pre>Pipeline(steps=[(&#x27;preprocessor&#x27;,\n",
              "                 ColumnTransformer(transformers=[(&#x27;cat&#x27;, OneHotEncoder(),\n",
              "                                                  [&#x27;purchase_pattern&#x27;,\n",
              "                                                   &#x27;age_group&#x27;,\n",
              "                                                   &#x27;risk_score&#x27;])])),\n",
              "                (&#x27;model&#x27;, IsolationForest(contamination=0.05))])</pre></div></div></div><div class=\"sk-serial\"><div class=\"sk-item sk-dashed-wrapped\"><div class=\"sk-label-container\"><div class=\"sk-label sk-toggleable\"><input class=\"sk-toggleable__control sk-hidden--visually\" id=\"sk-estimator-id-7\" type=\"checkbox\" ><label for=\"sk-estimator-id-7\" class=\"sk-toggleable__label sk-toggleable__label-arrow\">preprocessor: ColumnTransformer</label><div class=\"sk-toggleable__content\"><pre>ColumnTransformer(transformers=[(&#x27;cat&#x27;, OneHotEncoder(),\n",
              "                                 [&#x27;purchase_pattern&#x27;, &#x27;age_group&#x27;,\n",
              "                                  &#x27;risk_score&#x27;])])</pre></div></div></div><div class=\"sk-parallel\"><div class=\"sk-parallel-item\"><div class=\"sk-item\"><div class=\"sk-label-container\"><div class=\"sk-label sk-toggleable\"><input class=\"sk-toggleable__control sk-hidden--visually\" id=\"sk-estimator-id-8\" type=\"checkbox\" ><label for=\"sk-estimator-id-8\" class=\"sk-toggleable__label sk-toggleable__label-arrow\">cat</label><div class=\"sk-toggleable__content\"><pre>[&#x27;purchase_pattern&#x27;, &#x27;age_group&#x27;, &#x27;risk_score&#x27;]</pre></div></div></div><div class=\"sk-serial\"><div class=\"sk-item\"><div class=\"sk-estimator sk-toggleable\"><input class=\"sk-toggleable__control sk-hidden--visually\" id=\"sk-estimator-id-9\" type=\"checkbox\" ><label for=\"sk-estimator-id-9\" class=\"sk-toggleable__label sk-toggleable__label-arrow\">OneHotEncoder</label><div class=\"sk-toggleable__content\"><pre>OneHotEncoder()</pre></div></div></div></div></div></div></div></div><div class=\"sk-item\"><div class=\"sk-estimator sk-toggleable\"><input class=\"sk-toggleable__control sk-hidden--visually\" id=\"sk-estimator-id-10\" type=\"checkbox\" ><label for=\"sk-estimator-id-10\" class=\"sk-toggleable__label sk-toggleable__label-arrow\">IsolationForest</label><div class=\"sk-toggleable__content\"><pre>IsolationForest(contamination=0.05)</pre></div></div></div></div></div></div></div>"
            ]
          },
          "metadata": {},
          "execution_count": 54
        }
      ]
    },
    {
      "cell_type": "code",
      "source": [
        "# Predict anomalies\n",
        "y_pred_train = pipeline.predict(X_train)\n",
        "y_pred_test = pipeline.predict(X_test)"
      ],
      "metadata": {
        "id": "z3mismoO21Gh"
      },
      "execution_count": null,
      "outputs": []
    },
    {
      "cell_type": "code",
      "source": [
        "# Calculate evaluation metrics\n",
        "train_accuracy = accuracy_score(y_train_encoded, y_pred_train)\n",
        "train_precision = precision_score(y_train_encoded, y_pred_train, average='weighted')  # Choose appropriate average\n",
        "train_recall = recall_score(y_train_encoded, y_pred_train, average='weighted')  # Choose appropriate average\n",
        "train_f1 = f1_score(y_train_encoded, y_pred_train, average='weighted')  # Choose appropriate average\n",
        "\n",
        "test_accuracy = accuracy_score(y_test_encoded, y_pred_test)\n",
        "test_precision = precision_score(y_test_encoded, y_pred_test, average='weighted')  # Choose appropriate average\n",
        "test_recall = recall_score(y_test_encoded, y_pred_test, average='weighted')  # Choose appropriate average\n",
        "test_f1 = f1_score(y_test_encoded, y_pred_test, average='weighted')  # Choose appropriate average"
      ],
      "metadata": {
        "colab": {
          "base_uri": "https://localhost:8080/"
        },
        "id": "p0T1DkH126Db",
        "outputId": "983de24c-db4e-41de-cdd8-fbef953450a7"
      },
      "execution_count": null,
      "outputs": [
        {
          "output_type": "stream",
          "name": "stderr",
          "text": [
            "/usr/local/lib/python3.10/dist-packages/sklearn/metrics/_classification.py:1344: UndefinedMetricWarning: Precision is ill-defined and being set to 0.0 in labels with no predicted samples. Use `zero_division` parameter to control this behavior.\n",
            "  _warn_prf(average, modifier, msg_start, len(result))\n",
            "/usr/local/lib/python3.10/dist-packages/sklearn/metrics/_classification.py:1344: UndefinedMetricWarning: Recall is ill-defined and being set to 0.0 in labels with no true samples. Use `zero_division` parameter to control this behavior.\n",
            "  _warn_prf(average, modifier, msg_start, len(result))\n",
            "/usr/local/lib/python3.10/dist-packages/sklearn/metrics/_classification.py:1344: UndefinedMetricWarning: Precision is ill-defined and being set to 0.0 in labels with no predicted samples. Use `zero_division` parameter to control this behavior.\n",
            "  _warn_prf(average, modifier, msg_start, len(result))\n",
            "/usr/local/lib/python3.10/dist-packages/sklearn/metrics/_classification.py:1344: UndefinedMetricWarning: Recall is ill-defined and being set to 0.0 in labels with no true samples. Use `zero_division` parameter to control this behavior.\n",
            "  _warn_prf(average, modifier, msg_start, len(result))\n"
          ]
        }
      ]
    },
    {
      "cell_type": "code",
      "source": [
        "print(\"\\nAnomaly Detection Results:\")\n",
        "print(data['anomaly'].value_counts())"
      ],
      "metadata": {
        "colab": {
          "base_uri": "https://localhost:8080/"
        },
        "id": "0LVYbZi75a8M",
        "outputId": "ff22d350-f20d-4421-8077-ad055c1b1174"
      },
      "execution_count": null,
      "outputs": [
        {
          "output_type": "stream",
          "name": "stdout",
          "text": [
            "\n",
            "Anomaly Detection Results:\n",
            "low_risk         63494\n",
            "moderate_risk     8611\n",
            "high_risk         6495\n",
            "Name: anomaly, dtype: int64\n"
          ]
        }
      ]
    },
    {
      "cell_type": "code",
      "source": [
        "print(\"Training Set Metrics:\")\n",
        "print(\"Accuracy:\", train_accuracy)\n",
        "print(\"Precision:\", train_precision)\n",
        "print(\"Recall:\", train_recall)\n",
        "print(\"F1-score:\", train_f1)\n",
        "\n",
        "print(\"\\nTest Set Metrics:\")\n",
        "print(\"Accuracy:\", test_accuracy)\n",
        "print(\"Precision:\", test_precision)\n",
        "print(\"Recall:\", test_recall)\n",
        "print(\"F1-score:\", test_f1)\n",
        "\n",
        "# Classification report\n",
        "print(\"\\nClassification Report:\")\n",
        "print(classification_report(y_test_encoded, y_pred_test))"
      ],
      "metadata": {
        "colab": {
          "base_uri": "https://localhost:8080/"
        },
        "id": "6CPe62hx3A-S",
        "outputId": "2f5919f9-bed3-4b64-fab7-46ee9e524329"
      },
      "execution_count": null,
      "outputs": [
        {
          "output_type": "stream",
          "name": "stdout",
          "text": [
            "Training Set Metrics:\n",
            "Accuracy: 0.7708810432569975\n",
            "Precision: 0.6431225611015846\n",
            "Recall: 0.7708810432569975\n",
            "F1-score: 0.7012301656317098\n",
            "\n",
            "Test Set Metrics:\n",
            "Accuracy: 0.7821882951653945\n",
            "Precision: 0.6625497901031768\n",
            "Recall: 0.7821882951653945\n",
            "F1-score: 0.7174154209226862\n",
            "\n",
            "Classification Report:\n",
            "              precision    recall  f1-score   support\n",
            "\n",
            "          -1       0.00      0.00      0.00         0\n",
            "           0       0.00      0.00      0.00      1251\n",
            "           1       0.81      0.96      0.88     12848\n",
            "           2       0.00      0.00      0.00      1621\n",
            "\n",
            "    accuracy                           0.78     15720\n",
            "   macro avg       0.20      0.24      0.22     15720\n",
            "weighted avg       0.66      0.78      0.72     15720\n",
            "\n"
          ]
        },
        {
          "output_type": "stream",
          "name": "stderr",
          "text": [
            "/usr/local/lib/python3.10/dist-packages/sklearn/metrics/_classification.py:1344: UndefinedMetricWarning: Precision and F-score are ill-defined and being set to 0.0 in labels with no predicted samples. Use `zero_division` parameter to control this behavior.\n",
            "  _warn_prf(average, modifier, msg_start, len(result))\n",
            "/usr/local/lib/python3.10/dist-packages/sklearn/metrics/_classification.py:1344: UndefinedMetricWarning: Recall and F-score are ill-defined and being set to 0.0 in labels with no true samples. Use `zero_division` parameter to control this behavior.\n",
            "  _warn_prf(average, modifier, msg_start, len(result))\n",
            "/usr/local/lib/python3.10/dist-packages/sklearn/metrics/_classification.py:1344: UndefinedMetricWarning: Precision and F-score are ill-defined and being set to 0.0 in labels with no predicted samples. Use `zero_division` parameter to control this behavior.\n",
            "  _warn_prf(average, modifier, msg_start, len(result))\n",
            "/usr/local/lib/python3.10/dist-packages/sklearn/metrics/_classification.py:1344: UndefinedMetricWarning: Recall and F-score are ill-defined and being set to 0.0 in labels with no true samples. Use `zero_division` parameter to control this behavior.\n",
            "  _warn_prf(average, modifier, msg_start, len(result))\n",
            "/usr/local/lib/python3.10/dist-packages/sklearn/metrics/_classification.py:1344: UndefinedMetricWarning: Precision and F-score are ill-defined and being set to 0.0 in labels with no predicted samples. Use `zero_division` parameter to control this behavior.\n",
            "  _warn_prf(average, modifier, msg_start, len(result))\n",
            "/usr/local/lib/python3.10/dist-packages/sklearn/metrics/_classification.py:1344: UndefinedMetricWarning: Recall and F-score are ill-defined and being set to 0.0 in labels with no true samples. Use `zero_division` parameter to control this behavior.\n",
            "  _warn_prf(average, modifier, msg_start, len(result))\n"
          ]
        }
      ]
    },
    {
      "cell_type": "code",
      "source": [
        "# One-hot encode categorical features\n",
        "categorical_cols = ['purchase_pattern', 'age_group', 'risk_score']\n",
        "X_encoded = pd.get_dummies(X, columns=categorical_cols)\n",
        "\n"
      ],
      "metadata": {
        "id": "ANAIOhY2TZXh"
      },
      "execution_count": 8,
      "outputs": []
    },
    {
      "cell_type": "code",
      "source": [
        "# Split the data into train and test sets\n",
        "X_train, X_test, y_train, y_test = train_test_split(X_encoded, y, test_size=0.2, random_state=42)"
      ],
      "metadata": {
        "id": "d21Dqm4_Wl6C"
      },
      "execution_count": 9,
      "outputs": []
    },
    {
      "cell_type": "code",
      "source": [
        "# Reshape the data for 1D CNN\n",
        "X_train_reshaped = X_train.values.reshape(X_train.shape[0], X_train.shape[1], 1)\n",
        "X_test_reshaped = X_test.values.reshape(X_test.shape[0], X_test.shape[1], 1)"
      ],
      "metadata": {
        "id": "FRY3vbBHX1bc"
      },
      "execution_count": 14,
      "outputs": []
    },
    {
      "cell_type": "code",
      "source": [
        "from sklearn.preprocessing import LabelEncoder\n",
        "\n",
        "# Encode target variable into numerical format\n",
        "label_encoder = LabelEncoder()\n",
        "y_train_encoded = label_encoder.fit_transform(y_train)\n",
        "y_test_encoded = label_encoder.transform(y_test)\n",
        "\n",
        "# Convert target variable to categorical\n",
        "num_classes = len(label_encoder.classes_)\n",
        "y_train_cat = to_categorical(y_train_encoded, num_classes=num_classes)\n",
        "y_test_cat = to_categorical(y_test_encoded, num_classes=num_classes)\n",
        "\n"
      ],
      "metadata": {
        "id": "fJl-k60BWq2a"
      },
      "execution_count": 15,
      "outputs": []
    },
    {
      "cell_type": "code",
      "source": [
        "# Build the CNN model\n",
        "model = Sequential([\n",
        "    Conv1D(64, kernel_size=3, activation='relu', input_shape=(X_train_reshaped.shape[1], 1)),\n",
        "    MaxPooling1D(pool_size=2),\n",
        "    Conv1D(32, kernel_size=3, activation='relu'),\n",
        "    MaxPooling1D(pool_size=2),\n",
        "    Flatten(),\n",
        "    Dense(128, activation='relu'),\n",
        "    Dropout(0.5),\n",
        "    Dense(num_classes, activation='softmax')\n",
        "])"
      ],
      "metadata": {
        "id": "A6BPbGBzXTQU"
      },
      "execution_count": 16,
      "outputs": []
    },
    {
      "cell_type": "code",
      "source": [
        "model.compile(optimizer='adam', loss='categorical_crossentropy', metrics=['accuracy'])"
      ],
      "metadata": {
        "id": "fCPsjsudX4vx"
      },
      "execution_count": 18,
      "outputs": []
    }
  ]
}